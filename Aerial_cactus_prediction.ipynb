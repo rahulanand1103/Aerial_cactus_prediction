{
 "cells": [
  {
   "cell_type": "markdown",
   "metadata": {},
   "source": [
    "# Aerial Cactus Prediction"
   ]
  },
  {
   "cell_type": "markdown",
   "metadata": {},
   "source": [
    "## Business Problem  \n",
    "* classifier capable of predicting whether an images contains a cactus."
   ]
  },
  {
   "cell_type": "markdown",
   "metadata": {},
   "source": [
    "## 1.reading csv"
   ]
  },
  {
   "cell_type": "code",
   "execution_count": 8,
   "metadata": {
    "id": "QT1v7-b3Hdl_"
   },
   "outputs": [],
   "source": [
    "import pandas as pd\n",
    "train=pd.read_csv(\"train.csv\")"
   ]
  },
  {
   "cell_type": "code",
   "execution_count": 9,
   "metadata": {
    "colab": {
     "base_uri": "https://localhost:8080/",
     "height": 204
    },
    "id": "iq4AwLoWHk82",
    "outputId": "d7dc1b92-d4c0-4727-8fcf-d0cbebc6f2cb"
   },
   "outputs": [
    {
     "data": {
      "text/html": [
       "<div>\n",
       "<style scoped>\n",
       "    .dataframe tbody tr th:only-of-type {\n",
       "        vertical-align: middle;\n",
       "    }\n",
       "\n",
       "    .dataframe tbody tr th {\n",
       "        vertical-align: top;\n",
       "    }\n",
       "\n",
       "    .dataframe thead th {\n",
       "        text-align: right;\n",
       "    }\n",
       "</style>\n",
       "<table border=\"1\" class=\"dataframe\">\n",
       "  <thead>\n",
       "    <tr style=\"text-align: right;\">\n",
       "      <th></th>\n",
       "      <th>id</th>\n",
       "      <th>has_cactus</th>\n",
       "    </tr>\n",
       "  </thead>\n",
       "  <tbody>\n",
       "    <tr>\n",
       "      <th>0</th>\n",
       "      <td>0004be2cfeaba1c0361d39e2b000257b.jpg</td>\n",
       "      <td>1</td>\n",
       "    </tr>\n",
       "    <tr>\n",
       "      <th>1</th>\n",
       "      <td>000c8a36845c0208e833c79c1bffedd1.jpg</td>\n",
       "      <td>1</td>\n",
       "    </tr>\n",
       "    <tr>\n",
       "      <th>2</th>\n",
       "      <td>000d1e9a533f62e55c289303b072733d.jpg</td>\n",
       "      <td>1</td>\n",
       "    </tr>\n",
       "    <tr>\n",
       "      <th>3</th>\n",
       "      <td>0011485b40695e9138e92d0b3fb55128.jpg</td>\n",
       "      <td>1</td>\n",
       "    </tr>\n",
       "    <tr>\n",
       "      <th>4</th>\n",
       "      <td>0014d7a11e90b62848904c1418fc8cf2.jpg</td>\n",
       "      <td>1</td>\n",
       "    </tr>\n",
       "  </tbody>\n",
       "</table>\n",
       "</div>"
      ],
      "text/plain": [
       "                                     id  has_cactus\n",
       "0  0004be2cfeaba1c0361d39e2b000257b.jpg           1\n",
       "1  000c8a36845c0208e833c79c1bffedd1.jpg           1\n",
       "2  000d1e9a533f62e55c289303b072733d.jpg           1\n",
       "3  0011485b40695e9138e92d0b3fb55128.jpg           1\n",
       "4  0014d7a11e90b62848904c1418fc8cf2.jpg           1"
      ]
     },
     "execution_count": 9,
     "metadata": {
      "tags": []
     },
     "output_type": "execute_result"
    }
   ],
   "source": [
    "train.head()"
   ]
  },
  {
   "cell_type": "code",
   "execution_count": 10,
   "metadata": {
    "colab": {
     "base_uri": "https://localhost:8080/"
    },
    "id": "oiNfr8bAJBpt",
    "outputId": "3a7a0f52-6d01-412d-d5b6-84bf8febed16"
   },
   "outputs": [
    {
     "name": "stdout",
     "output_type": "stream",
     "text": [
      "/content/train\n"
     ]
    }
   ],
   "source": [
    "cd train"
   ]
  },
  {
   "cell_type": "markdown",
   "metadata": {},
   "source": [
    "<i><b>removing the image from the folder </b></i>"
   ]
  },
  {
   "cell_type": "code",
   "execution_count": 11,
   "metadata": {
    "colab": {
     "base_uri": "https://localhost:8080/"
    },
    "id": "sP5v2aFgIctH",
    "outputId": "a65f0868-6bf0-4125-8010-18a943f75bf9"
   },
   "outputs": [
    {
     "name": "stdout",
     "output_type": "stream",
     "text": [
      "['0014d7a11e90b62848904c1418fc8cf2.jpg']\n"
     ]
    }
   ],
   "source": [
    "#path = \"/train\"\n",
    "import glob\n",
    "text_files = glob.glob(\"0014d7a11e90b62848904c1418fc8cf2.jpg\", recursive = True)\n",
    "\n",
    "print(text_files)"
   ]
  },
  {
   "cell_type": "code",
   "execution_count": 12,
   "metadata": {
    "id": "phlXqrEWIKi1"
   },
   "outputs": [],
   "source": [
    "import glob\n",
    "for id in train['id']:\n",
    "    text_files = glob.glob(id, recursive = True)\n",
    "    if not text_files:\n",
    "        print(id)"
   ]
  },
  {
   "cell_type": "code",
   "execution_count": 13,
   "metadata": {
    "id": "xkyDGvIo8k1l"
   },
   "outputs": [],
   "source": [
    "file_not_found=train.apply(lambda row: row.astype(str).str.contains('3799ac842a5e50a6a783b9f611b59039.jpg').any(), axis=1)"
   ]
  },
  {
   "cell_type": "code",
   "execution_count": 14,
   "metadata": {
    "colab": {
     "base_uri": "https://localhost:8080/",
     "height": 80
    },
    "id": "4k_F1hhY8kyJ",
    "outputId": "896755eb-0bc9-4f1d-b99b-40ff20e51ad7"
   },
   "outputs": [
    {
     "data": {
      "text/html": [
       "<div>\n",
       "<style scoped>\n",
       "    .dataframe tbody tr th:only-of-type {\n",
       "        vertical-align: middle;\n",
       "    }\n",
       "\n",
       "    .dataframe tbody tr th {\n",
       "        vertical-align: top;\n",
       "    }\n",
       "\n",
       "    .dataframe thead th {\n",
       "        text-align: right;\n",
       "    }\n",
       "</style>\n",
       "<table border=\"1\" class=\"dataframe\">\n",
       "  <thead>\n",
       "    <tr style=\"text-align: right;\">\n",
       "      <th></th>\n",
       "      <th>id</th>\n",
       "      <th>has_cactus</th>\n",
       "    </tr>\n",
       "  </thead>\n",
       "  <tbody>\n",
       "    <tr>\n",
       "      <th>3960</th>\n",
       "      <td>3799ac842a5e50a6a783b9f611b59039.jpg</td>\n",
       "      <td>1</td>\n",
       "    </tr>\n",
       "  </tbody>\n",
       "</table>\n",
       "</div>"
      ],
      "text/plain": [
       "                                        id  has_cactus\n",
       "3960  3799ac842a5e50a6a783b9f611b59039.jpg           1"
      ]
     },
     "execution_count": 14,
     "metadata": {
      "tags": []
     },
     "output_type": "execute_result"
    }
   ],
   "source": [
    "train.loc[file_not_found]"
   ]
  },
  {
   "cell_type": "code",
   "execution_count": 15,
   "metadata": {
    "id": "kAFTAzbdQoEz"
   },
   "outputs": [],
   "source": [
    "train = train.drop(3960)"
   ]
  },
  {
   "cell_type": "code",
   "execution_count": 16,
   "metadata": {
    "colab": {
     "base_uri": "https://localhost:8080/"
    },
    "id": "ie4Q48IiF8-Y",
    "outputId": "94d328f4-cc15-4649-e663-1749ea38096c"
   },
   "outputs": [
    {
     "name": "stdout",
     "output_type": "stream",
     "text": [
      "1    13135\n",
      "0     4364\n",
      "Name: has_cactus, dtype: int64\n"
     ]
    }
   ],
   "source": [
    "has_cactus=train['has_cactus'].value_counts()\n",
    "print(has_cactus)"
   ]
  },
  {
   "cell_type": "code",
   "execution_count": 17,
   "metadata": {
    "colab": {
     "base_uri": "https://localhost:8080/"
    },
    "id": "BTENbeltDBc2",
    "outputId": "11fa3bf3-8911-40b1-bdc4-49fb57098924"
   },
   "outputs": [
    {
     "name": "stdout",
     "output_type": "stream",
     "text": [
      "(32, 32, 3)\n"
     ]
    }
   ],
   "source": [
    "#checking the size of image\n",
    "import numpy as np\n",
    "import cv2\n",
    "for _id in train[\"id\"]:\n",
    "    img = cv2.imread(_id)\n",
    "    print(img.shape)\n",
    "    break"
   ]
  },
  {
   "cell_type": "markdown",
   "metadata": {},
   "source": [
    "## 2.CNN Models"
   ]
  },
  {
   "cell_type": "code",
   "execution_count": 18,
   "metadata": {
    "id": "WH3OcpPtEnX_"
   },
   "outputs": [],
   "source": [
    "import tensorflow as tf\n",
    "from tensorflow.keras import Sequential\n",
    "from tensorflow.keras.layers import Flatten,Dense,Conv2D,MaxPool2D,BatchNormalization,GlobalAveragePooling2D,Dropout\n",
    "from tensorflow.keras.preprocessing.image import ImageDataGenerator"
   ]
  },
  {
   "cell_type": "code",
   "execution_count": 19,
   "metadata": {
    "id": "jCXLRtQDA2n8"
   },
   "outputs": [],
   "source": [
    "datagen=ImageDataGenerator(rescale=1/255,validation_split=0.30)"
   ]
  },
  {
   "cell_type": "code",
   "execution_count": 20,
   "metadata": {
    "colab": {
     "base_uri": "https://localhost:8080/",
     "height": 419
    },
    "id": "XrOw9EMeHLu5",
    "outputId": "f47ee7d5-4d30-4dd6-d886-2eebf3552f3a"
   },
   "outputs": [
    {
     "data": {
      "text/html": [
       "<div>\n",
       "<style scoped>\n",
       "    .dataframe tbody tr th:only-of-type {\n",
       "        vertical-align: middle;\n",
       "    }\n",
       "\n",
       "    .dataframe tbody tr th {\n",
       "        vertical-align: top;\n",
       "    }\n",
       "\n",
       "    .dataframe thead th {\n",
       "        text-align: right;\n",
       "    }\n",
       "</style>\n",
       "<table border=\"1\" class=\"dataframe\">\n",
       "  <thead>\n",
       "    <tr style=\"text-align: right;\">\n",
       "      <th></th>\n",
       "      <th>id</th>\n",
       "      <th>has_cactus</th>\n",
       "    </tr>\n",
       "  </thead>\n",
       "  <tbody>\n",
       "    <tr>\n",
       "      <th>0</th>\n",
       "      <td>0004be2cfeaba1c0361d39e2b000257b.jpg</td>\n",
       "      <td>1</td>\n",
       "    </tr>\n",
       "    <tr>\n",
       "      <th>1</th>\n",
       "      <td>000c8a36845c0208e833c79c1bffedd1.jpg</td>\n",
       "      <td>1</td>\n",
       "    </tr>\n",
       "    <tr>\n",
       "      <th>2</th>\n",
       "      <td>000d1e9a533f62e55c289303b072733d.jpg</td>\n",
       "      <td>1</td>\n",
       "    </tr>\n",
       "    <tr>\n",
       "      <th>3</th>\n",
       "      <td>0011485b40695e9138e92d0b3fb55128.jpg</td>\n",
       "      <td>1</td>\n",
       "    </tr>\n",
       "    <tr>\n",
       "      <th>4</th>\n",
       "      <td>0014d7a11e90b62848904c1418fc8cf2.jpg</td>\n",
       "      <td>1</td>\n",
       "    </tr>\n",
       "    <tr>\n",
       "      <th>...</th>\n",
       "      <td>...</td>\n",
       "      <td>...</td>\n",
       "    </tr>\n",
       "    <tr>\n",
       "      <th>17495</th>\n",
       "      <td>ffede47a74e47a5930f81c0b6896479e.jpg</td>\n",
       "      <td>0</td>\n",
       "    </tr>\n",
       "    <tr>\n",
       "      <th>17496</th>\n",
       "      <td>ffef6382a50d23251d4bc05519c91037.jpg</td>\n",
       "      <td>1</td>\n",
       "    </tr>\n",
       "    <tr>\n",
       "      <th>17497</th>\n",
       "      <td>fff059ecc91b30be5745e8b81111dc7b.jpg</td>\n",
       "      <td>1</td>\n",
       "    </tr>\n",
       "    <tr>\n",
       "      <th>17498</th>\n",
       "      <td>fff43acb3b7a23edcc4ae937be2b7522.jpg</td>\n",
       "      <td>0</td>\n",
       "    </tr>\n",
       "    <tr>\n",
       "      <th>17499</th>\n",
       "      <td>fffd9e9b990eba07c836745d8aef1a3a.jpg</td>\n",
       "      <td>1</td>\n",
       "    </tr>\n",
       "  </tbody>\n",
       "</table>\n",
       "<p>17499 rows × 2 columns</p>\n",
       "</div>"
      ],
      "text/plain": [
       "                                         id  has_cactus\n",
       "0      0004be2cfeaba1c0361d39e2b000257b.jpg           1\n",
       "1      000c8a36845c0208e833c79c1bffedd1.jpg           1\n",
       "2      000d1e9a533f62e55c289303b072733d.jpg           1\n",
       "3      0011485b40695e9138e92d0b3fb55128.jpg           1\n",
       "4      0014d7a11e90b62848904c1418fc8cf2.jpg           1\n",
       "...                                     ...         ...\n",
       "17495  ffede47a74e47a5930f81c0b6896479e.jpg           0\n",
       "17496  ffef6382a50d23251d4bc05519c91037.jpg           1\n",
       "17497  fff059ecc91b30be5745e8b81111dc7b.jpg           1\n",
       "17498  fff43acb3b7a23edcc4ae937be2b7522.jpg           0\n",
       "17499  fffd9e9b990eba07c836745d8aef1a3a.jpg           1\n",
       "\n",
       "[17499 rows x 2 columns]"
      ]
     },
     "execution_count": 20,
     "metadata": {
      "tags": []
     },
     "output_type": "execute_result"
    }
   ],
   "source": [
    "train"
   ]
  },
  {
   "cell_type": "code",
   "execution_count": 21,
   "metadata": {
    "id": "UP22PoiJKFXp"
   },
   "outputs": [],
   "source": [
    "train[\"has_cactus\"]= train[\"has_cactus\"].apply(str)"
   ]
  },
  {
   "cell_type": "code",
   "execution_count": 22,
   "metadata": {
    "colab": {
     "base_uri": "https://localhost:8080/"
    },
    "id": "edRiriQMA2lG",
    "outputId": "68d1be87-9bb5-4a25-8eca-a15ba0c4fb12"
   },
   "outputs": [
    {
     "name": "stdout",
     "output_type": "stream",
     "text": [
      "Found 12250 validated image filenames belonging to 2 classes.\n",
      "Found 5249 validated image filenames belonging to 2 classes.\n"
     ]
    }
   ],
   "source": [
    "bs = 64\n",
    "\n",
    "train_generator = datagen.flow_from_dataframe(\n",
    "    dataframe = train,\n",
    "    x_col = \"id\",\n",
    "    y_col = \"has_cactus\",\n",
    "    subset = \"training\",\n",
    "    batch_size = bs,\n",
    "    target_size=(32,32),\n",
    "    #seed = 1,\n",
    "    shuffle = True,\n",
    "    class_mode = \"categorical\")\n",
    "\n",
    "valid_generator = datagen.flow_from_dataframe(\n",
    "    dataframe = train,\n",
    "    x_col = \"id\",\n",
    "    y_col = \"has_cactus\",\n",
    "    subset = \"validation\",\n",
    "    target_size=(32,32),\n",
    "    batch_size = bs,\n",
    "    shuffle = True,\n",
    "    class_mode = \"categorical\")\n"
   ]
  },
  {
   "cell_type": "code",
   "execution_count": 23,
   "metadata": {
    "colab": {
     "base_uri": "https://localhost:8080/",
     "height": 414
    },
    "id": "8-4Ge3DLb07Q",
    "outputId": "b9094128-1e50-45c8-d015-76750024ded6"
   },
   "outputs": [
    {
     "data": {
      "image/png": "[encoded data removed]",
      "text/plain": [
       "<Figure size 1008x1008 with 16 Axes>"
      ]
     },
     "metadata": {
      "needs_background": "light",
      "tags": []
     },
     "output_type": "display_data"
    }
   ],
   "source": [
    "import matplotlib.pyplot as plt\n",
    "def training_images(seed):\n",
    "    np.random.seed(seed)\n",
    "    train_generator.reset()\n",
    "    imgs, labels = next(train_generator)\n",
    "    tr_labels = np.argmax(labels, axis=1)\n",
    "    \n",
    "    plt.figure(figsize=(14,14))\n",
    "    for i in range(16):\n",
    "        text_class = labels[i]\n",
    "        plt.subplot(6,6,i+1)\n",
    "        plt.imshow(imgs[i,:,:,:])\n",
    "        if(text_class[0] == 1):\n",
    "            plt.text(0, -2, 'Negative', color='r')\n",
    "        else:\n",
    "            plt.text(0, -2, 'Positive', color='b')\n",
    "        plt.axis('off')\n",
    "    plt.show()\n",
    "    \n",
    "    \n",
    "training_images(2)"
   ]
  },
  {
   "cell_type": "markdown",
   "metadata": {},
   "source": [
    "### 2.1 VGG19"
   ]
  },
  {
   "cell_type": "code",
   "execution_count": 83,
   "metadata": {
    "id": "nbpIu7bfA2fw"
   },
   "outputs": [],
   "source": [
    "import tensorflow as tf\n",
    "from tensorflow.keras import Sequential\n",
    "from tensorflow.keras.layers import Flatten,Dense,Conv2D,MaxPooling2D,ZeroPadding2D,Dropout\n",
    "from tensorflow.keras.applications import VGG19"
   ]
  },
  {
   "cell_type": "code",
   "execution_count": 84,
   "metadata": {
    "id": "zY9jeoGOA2cl"
   },
   "outputs": [],
   "source": [
    "model = VGG19(weights= None,include_top=True,input_shape=(32,32,3),classes=2,classifier_activation=\"softmax\")"
   ]
  },
  {
   "cell_type": "code",
   "execution_count": 85,
   "metadata": {
    "id": "i4K53Uy7rvs0"
   },
   "outputs": [],
   "source": [
    "#to freeze some layer\n",
    "for layer in model.layers[:6]:\n",
    "    layer.trainable = False"
   ]
  },
  {
   "cell_type": "code",
   "execution_count": 86,
   "metadata": {
    "colab": {
     "base_uri": "https://localhost:8080/"
    },
    "id": "RnOYnxn_s2To",
    "outputId": "4874a577-fc95-4087-8021-8e84b6e400ff"
   },
   "outputs": [
    {
     "name": "stdout",
     "output_type": "stream",
     "text": [
      "input_7  False\n",
      "block1_conv1  False\n",
      "block1_conv2  False\n",
      "block1_pool  False\n",
      "block2_conv1  False\n",
      "block2_conv2  False\n",
      "block2_pool  True\n",
      "block3_conv1  True\n",
      "block3_conv2  True\n",
      "block3_conv3  True\n",
      "block3_conv4  True\n",
      "block3_pool  True\n",
      "block4_conv1  True\n",
      "block4_conv2  True\n",
      "block4_conv3  True\n",
      "block4_conv4  True\n",
      "block4_pool  True\n",
      "block5_conv1  True\n",
      "block5_conv2  True\n",
      "block5_conv3  True\n",
      "block5_conv4  True\n",
      "block5_pool  True\n",
      "flatten  True\n",
      "fc1  True\n",
      "fc2  True\n",
      "predictions  True\n"
     ]
    }
   ],
   "source": [
    "for layer in model.layers:\n",
    "    sp=' '[len(layer.name):]\n",
    "    print(layer.name,sp,layer.trainable)"
   ]
  },
  {
   "cell_type": "code",
   "execution_count": 87,
   "metadata": {
    "id": "5e8GrEYLA2UE"
   },
   "outputs": [],
   "source": [
    "# compiling the model\n",
    "model.compile(loss='categorical_crossentropy', optimizer=\"adam\", metrics=['accuracy'])"
   ]
  },
  {
   "cell_type": "code",
   "execution_count": 88,
   "metadata": {
    "colab": {
     "base_uri": "https://localhost:8080/"
    },
    "id": "O3HnaEzaAmv8",
    "outputId": "32d4b8ba-b903-4e28-ba47-216b79299a87"
   },
   "outputs": [
    {
     "name": "stderr",
     "output_type": "stream",
     "text": [
      "/usr/local/lib/python3.7/dist-packages/tensorflow/python/keras/engine/training.py:1844: UserWarning: `Model.fit_generator` is deprecated and will be removed in a future version. Please use `Model.fit`, which supports generators.\n",
      "  warnings.warn('`Model.fit_generator` is deprecated and '\n"
     ]
    },
    {
     "name": "stdout",
     "output_type": "stream",
     "text": [
      "Epoch 1/20\n",
      "192/192 [==============================] - 11s 51ms/step - loss: 0.5898 - accuracy: 0.7302 - val_loss: 0.5788 - val_accuracy: 0.7453\n",
      "Epoch 2/20\n",
      "192/192 [==============================] - 10s 50ms/step - loss: 0.5665 - accuracy: 0.7490 - val_loss: 0.5703 - val_accuracy: 0.7453\n",
      "Epoch 3/20\n",
      "192/192 [==============================] - 9s 49ms/step - loss: 0.5629 - accuracy: 0.7508 - val_loss: 0.5677 - val_accuracy: 0.7453\n",
      "Epoch 4/20\n",
      "192/192 [==============================] - 10s 50ms/step - loss: 0.5621 - accuracy: 0.7511 - val_loss: 0.5676 - val_accuracy: 0.7453\n",
      "Epoch 5/20\n",
      "192/192 [==============================] - 9s 49ms/step - loss: 0.5580 - accuracy: 0.7551 - val_loss: 0.5686 - val_accuracy: 0.7453\n",
      "Epoch 6/20\n",
      "192/192 [==============================] - 9s 49ms/step - loss: 0.5633 - accuracy: 0.7509 - val_loss: 0.5675 - val_accuracy: 0.7453\n",
      "Epoch 7/20\n",
      "192/192 [==============================] - 10s 49ms/step - loss: 0.5547 - accuracy: 0.7578 - val_loss: 0.5681 - val_accuracy: 0.7453\n",
      "Epoch 8/20\n",
      "192/192 [==============================] - 10s 50ms/step - loss: 0.5656 - accuracy: 0.7476 - val_loss: 0.5675 - val_accuracy: 0.7453\n",
      "Epoch 9/20\n",
      "192/192 [==============================] - 10s 50ms/step - loss: 0.5559 - accuracy: 0.7564 - val_loss: 0.5675 - val_accuracy: 0.7453\n",
      "Epoch 10/20\n",
      "192/192 [==============================] - 10s 50ms/step - loss: 0.5615 - accuracy: 0.7520 - val_loss: 0.5695 - val_accuracy: 0.7453\n",
      "Epoch 11/20\n",
      "192/192 [==============================] - 10s 50ms/step - loss: 0.5550 - accuracy: 0.7574 - val_loss: 0.5675 - val_accuracy: 0.7453\n",
      "Epoch 12/20\n",
      "192/192 [==============================] - 10s 50ms/step - loss: 0.5614 - accuracy: 0.7513 - val_loss: 0.5677 - val_accuracy: 0.7453\n",
      "Epoch 13/20\n",
      "192/192 [==============================] - 10s 50ms/step - loss: 0.5622 - accuracy: 0.7508 - val_loss: 0.5698 - val_accuracy: 0.7453\n",
      "Epoch 14/20\n",
      "192/192 [==============================] - 10s 50ms/step - loss: 0.5582 - accuracy: 0.7547 - val_loss: 0.5703 - val_accuracy: 0.7453\n",
      "Epoch 15/20\n",
      "192/192 [==============================] - 10s 50ms/step - loss: 0.5688 - accuracy: 0.7453 - val_loss: 0.5676 - val_accuracy: 0.7453\n",
      "Epoch 16/20\n",
      "192/192 [==============================] - 10s 50ms/step - loss: 0.5626 - accuracy: 0.7505 - val_loss: 0.5711 - val_accuracy: 0.7453\n",
      "Epoch 17/20\n",
      "192/192 [==============================] - 10s 50ms/step - loss: 0.5634 - accuracy: 0.7502 - val_loss: 0.5678 - val_accuracy: 0.7453\n",
      "Epoch 18/20\n",
      "192/192 [==============================] - 10s 50ms/step - loss: 0.5546 - accuracy: 0.7574 - val_loss: 0.5679 - val_accuracy: 0.7453\n",
      "Epoch 19/20\n",
      "192/192 [==============================] - 10s 50ms/step - loss: 0.5565 - accuracy: 0.7559 - val_loss: 0.5712 - val_accuracy: 0.7453\n",
      "Epoch 20/20\n",
      "192/192 [==============================] - 10s 50ms/step - loss: 0.5638 - accuracy: 0.7499 - val_loss: 0.5679 - val_accuracy: 0.7453\n"
     ]
    }
   ],
   "source": [
    "history = model.fit_generator(train_generator,\n",
    "                         steps_per_epoch = len(train_generator),\n",
    "                         epochs = 20,\n",
    "                         validation_data = valid_generator,\n",
    "                         validation_steps = len(valid_generator),\n",
    "                         verbose=1)"
   ]
  },
  {
   "cell_type": "code",
   "execution_count": 89,
   "metadata": {
    "colab": {
     "base_uri": "https://localhost:8080/",
     "height": 573
    },
    "id": "J6P6oRbSAmtO",
    "outputId": "ee807eff-b865-4955-9396-00f5b1b54356"
   },
   "outputs": [
    {
     "data": {
      "image/png": "[encoded data removed]",
      "text/plain": [
       "<Figure size 432x288 with 1 Axes>"
      ]
     },
     "metadata": {
      "needs_background": "light",
      "tags": []
     },
     "output_type": "display_data"
    },
    {
     "data": {
      "image/png": "[encoded data removed]",
      "text/plain": [
       "<Figure size 432x288 with 1 Axes>"
      ]
     },
     "metadata": {
      "needs_background": "light",
      "tags": []
     },
     "output_type": "display_data"
    }
   ],
   "source": [
    "import matplotlib.pyplot as plt\n",
    "def plot_learningCurve(history, epoch):\n",
    "    # Plot training & validation accuracy values\n",
    "    epoch_range = range(1, epoch+1)\n",
    "    plt.plot(epoch_range, history.history['accuracy'])\n",
    "    plt.plot(epoch_range, history.history['val_accuracy'])\n",
    "    plt.title('Model accuracy')\n",
    "    plt.ylabel('Accuracy')\n",
    "    plt.xlabel('Epoch')\n",
    "    plt.legend(['Train', 'Val'], loc='upper left')\n",
    "    plt.show()\n",
    "\n",
    "    # Plot training & validation loss values\n",
    "    plt.plot(epoch_range, history.history['loss'])\n",
    "    plt.plot(epoch_range, history.history['val_loss'])\n",
    "    plt.title('Model loss')\n",
    "    plt.ylabel('Loss')\n",
    "    plt.xlabel('Epoch')\n",
    "    plt.legend(['Train', 'Val'], loc='upper left')\n",
    "    plt.show()\n",
    "\n",
    "plot_learningCurve(history, 20)"
   ]
  },
  {
   "cell_type": "markdown",
   "metadata": {},
   "source": [
    "### 2.2 ResNet50"
   ]
  },
  {
   "cell_type": "code",
   "execution_count": 57,
   "metadata": {
    "id": "fNAEs2yAAmqY"
   },
   "outputs": [],
   "source": [
    "from tensorflow.keras.applications import ResNet50"
   ]
  },
  {
   "cell_type": "code",
   "execution_count": 61,
   "metadata": {
    "id": "aEqC-dbvsxhU"
   },
   "outputs": [],
   "source": [
    "model = ResNet50(weights= None,include_top=True,input_shape=(32,32,3),classes=2,classifier_activation=\"softmax\")"
   ]
  },
  {
   "cell_type": "code",
   "execution_count": 74,
   "metadata": {
    "id": "QwZY9oRvsxhb"
   },
   "outputs": [],
   "source": [
    "#to freeze some layer\n",
    "for layer in model.layers[:25]:\n",
    "    layer.trainable = False"
   ]
  },
  {
   "cell_type": "code",
   "execution_count": 75,
   "metadata": {
    "colab": {
     "base_uri": "https://localhost:8080/"
    },
    "id": "37F8i0evsxhb",
    "outputId": "0808405f-288b-4a4e-9d0e-e21052069e30"
   },
   "outputs": [
    {
     "name": "stdout",
     "output_type": "stream",
     "text": [
      "input_6  False\n",
      "conv1_pad  False\n",
      "conv1_conv  False\n",
      "conv1_bn  False\n",
      "conv1_relu  False\n",
      "pool1_pad  False\n",
      "pool1_pool  False\n",
      "conv2_block1_1_conv  False\n",
      "conv2_block1_1_bn  False\n",
      "conv2_block1_1_relu  False\n",
      "conv2_block1_2_conv  False\n",
      "conv2_block1_2_bn  False\n",
      "conv2_block1_2_relu  False\n",
      "conv2_block1_0_conv  False\n",
      "conv2_block1_3_conv  False\n",
      "conv2_block1_0_bn  False\n",
      "conv2_block1_3_bn  False\n",
      "conv2_block1_add  False\n",
      "conv2_block1_out  False\n",
      "conv2_block2_1_conv  False\n",
      "conv2_block2_1_bn  False\n",
      "conv2_block2_1_relu  False\n",
      "conv2_block2_2_conv  False\n",
      "conv2_block2_2_bn  False\n",
      "conv2_block2_2_relu  False\n",
      "conv2_block2_3_conv  True\n",
      "conv2_block2_3_bn  True\n",
      "conv2_block2_add  True\n",
      "conv2_block2_out  True\n",
      "conv2_block3_1_conv  True\n",
      "conv2_block3_1_bn  True\n",
      "conv2_block3_1_relu  True\n",
      "conv2_block3_2_conv  True\n",
      "conv2_block3_2_bn  True\n",
      "conv2_block3_2_relu  True\n",
      "conv2_block3_3_conv  True\n",
      "conv2_block3_3_bn  True\n",
      "conv2_block3_add  True\n",
      "conv2_block3_out  True\n",
      "conv3_block1_1_conv  True\n",
      "conv3_block1_1_bn  True\n",
      "conv3_block1_1_relu  True\n",
      "conv3_block1_2_conv  True\n",
      "conv3_block1_2_bn  True\n",
      "conv3_block1_2_relu  True\n",
      "conv3_block1_0_conv  True\n",
      "conv3_block1_3_conv  True\n",
      "conv3_block1_0_bn  True\n",
      "conv3_block1_3_bn  True\n",
      "conv3_block1_add  True\n",
      "conv3_block1_out  True\n",
      "conv3_block2_1_conv  True\n",
      "conv3_block2_1_bn  True\n",
      "conv3_block2_1_relu  True\n",
      "conv3_block2_2_conv  True\n",
      "conv3_block2_2_bn  True\n",
      "conv3_block2_2_relu  True\n",
      "conv3_block2_3_conv  True\n",
      "conv3_block2_3_bn  True\n",
      "conv3_block2_add  True\n",
      "conv3_block2_out  True\n",
      "conv3_block3_1_conv  True\n",
      "conv3_block3_1_bn  True\n",
      "conv3_block3_1_relu  True\n",
      "conv3_block3_2_conv  True\n",
      "conv3_block3_2_bn  True\n",
      "conv3_block3_2_relu  True\n",
      "conv3_block3_3_conv  True\n",
      "conv3_block3_3_bn  True\n",
      "conv3_block3_add  True\n",
      "conv3_block3_out  True\n",
      "conv3_block4_1_conv  True\n",
      "conv3_block4_1_bn  True\n",
      "conv3_block4_1_relu  True\n",
      "conv3_block4_2_conv  True\n",
      "conv3_block4_2_bn  True\n",
      "conv3_block4_2_relu  True\n",
      "conv3_block4_3_conv  True\n",
      "conv3_block4_3_bn  True\n",
      "conv3_block4_add  True\n",
      "conv3_block4_out  True\n",
      "conv4_block1_1_conv  True\n",
      "conv4_block1_1_bn  True\n",
      "conv4_block1_1_relu  True\n",
      "conv4_block1_2_conv  True\n",
      "conv4_block1_2_bn  True\n",
      "conv4_block1_2_relu  True\n",
      "conv4_block1_0_conv  True\n",
      "conv4_block1_3_conv  True\n",
      "conv4_block1_0_bn  True\n",
      "conv4_block1_3_bn  True\n",
      "conv4_block1_add  True\n",
      "conv4_block1_out  True\n",
      "conv4_block2_1_conv  True\n",
      "conv4_block2_1_bn  True\n",
      "conv4_block2_1_relu  True\n",
      "conv4_block2_2_conv  True\n",
      "conv4_block2_2_bn  True\n",
      "conv4_block2_2_relu  True\n",
      "conv4_block2_3_conv  True\n",
      "conv4_block2_3_bn  True\n",
      "conv4_block2_add  True\n",
      "conv4_block2_out  True\n",
      "conv4_block3_1_conv  True\n",
      "conv4_block3_1_bn  True\n",
      "conv4_block3_1_relu  True\n",
      "conv4_block3_2_conv  True\n",
      "conv4_block3_2_bn  True\n",
      "conv4_block3_2_relu  True\n",
      "conv4_block3_3_conv  True\n",
      "conv4_block3_3_bn  True\n",
      "conv4_block3_add  True\n",
      "conv4_block3_out  True\n",
      "conv4_block4_1_conv  True\n",
      "conv4_block4_1_bn  True\n",
      "conv4_block4_1_relu  True\n",
      "conv4_block4_2_conv  True\n",
      "conv4_block4_2_bn  True\n",
      "conv4_block4_2_relu  True\n",
      "conv4_block4_3_conv  True\n",
      "conv4_block4_3_bn  True\n",
      "conv4_block4_add  True\n",
      "conv4_block4_out  True\n",
      "conv4_block5_1_conv  True\n",
      "conv4_block5_1_bn  True\n",
      "conv4_block5_1_relu  True\n",
      "conv4_block5_2_conv  True\n",
      "conv4_block5_2_bn  True\n",
      "conv4_block5_2_relu  True\n",
      "conv4_block5_3_conv  True\n",
      "conv4_block5_3_bn  True\n",
      "conv4_block5_add  True\n",
      "conv4_block5_out  True\n",
      "conv4_block6_1_conv  True\n",
      "conv4_block6_1_bn  True\n",
      "conv4_block6_1_relu  True\n",
      "conv4_block6_2_conv  True\n",
      "conv4_block6_2_bn  True\n",
      "conv4_block6_2_relu  True\n",
      "conv4_block6_3_conv  True\n",
      "conv4_block6_3_bn  True\n",
      "conv4_block6_add  True\n",
      "conv4_block6_out  True\n",
      "conv5_block1_1_conv  True\n",
      "conv5_block1_1_bn  True\n",
      "conv5_block1_1_relu  True\n",
      "conv5_block1_2_conv  True\n",
      "conv5_block1_2_bn  True\n",
      "conv5_block1_2_relu  True\n",
      "conv5_block1_0_conv  True\n",
      "conv5_block1_3_conv  True\n",
      "conv5_block1_0_bn  True\n",
      "conv5_block1_3_bn  True\n",
      "conv5_block1_add  True\n",
      "conv5_block1_out  True\n",
      "conv5_block2_1_conv  True\n",
      "conv5_block2_1_bn  True\n",
      "conv5_block2_1_relu  True\n",
      "conv5_block2_2_conv  True\n",
      "conv5_block2_2_bn  True\n",
      "conv5_block2_2_relu  True\n",
      "conv5_block2_3_conv  True\n",
      "conv5_block2_3_bn  True\n",
      "conv5_block2_add  True\n",
      "conv5_block2_out  True\n",
      "conv5_block3_1_conv  True\n",
      "conv5_block3_1_bn  True\n",
      "conv5_block3_1_relu  True\n",
      "conv5_block3_2_conv  True\n",
      "conv5_block3_2_bn  True\n",
      "conv5_block3_2_relu  True\n",
      "conv5_block3_3_conv  True\n",
      "conv5_block3_3_bn  True\n",
      "conv5_block3_add  True\n",
      "conv5_block3_out  True\n",
      "avg_pool  True\n",
      "predictions  True\n"
     ]
    }
   ],
   "source": [
    "for layer in model.layers:\n",
    "    sp=' '[len(layer.name):]\n",
    "    print(layer.name,sp,layer.trainable)"
   ]
  },
  {
   "cell_type": "code",
   "execution_count": 76,
   "metadata": {
    "id": "Iidr9S4Fsxhc"
   },
   "outputs": [],
   "source": [
    "# compiling the model\n",
    "model.compile(loss='categorical_crossentropy', optimizer=\"adam\", metrics=['accuracy'])"
   ]
  },
  {
   "cell_type": "code",
   "execution_count": 77,
   "metadata": {
    "colab": {
     "base_uri": "https://localhost:8080/"
    },
    "id": "TNBODqtXsxhc",
    "outputId": "d87f5eb8-2170-4581-a538-b816ce922a31"
   },
   "outputs": [
    {
     "name": "stderr",
     "output_type": "stream",
     "text": [
      "/usr/local/lib/python3.7/dist-packages/tensorflow/python/keras/engine/training.py:1844: UserWarning: `Model.fit_generator` is deprecated and will be removed in a future version. Please use `Model.fit`, which supports generators.\n",
      "  warnings.warn('`Model.fit_generator` is deprecated and '\n"
     ]
    },
    {
     "name": "stdout",
     "output_type": "stream",
     "text": [
      "Epoch 1/10\n",
      "192/192 [==============================] - 18s 73ms/step - loss: 0.0240 - accuracy: 0.9932 - val_loss: 0.0579 - val_accuracy: 0.9857\n",
      "Epoch 2/10\n",
      "192/192 [==============================] - 13s 68ms/step - loss: 0.0077 - accuracy: 0.9976 - val_loss: 0.0437 - val_accuracy: 0.9909\n",
      "Epoch 3/10\n",
      "192/192 [==============================] - 13s 68ms/step - loss: 0.0066 - accuracy: 0.9978 - val_loss: 0.0501 - val_accuracy: 0.9870\n",
      "Epoch 4/10\n",
      "192/192 [==============================] - 13s 69ms/step - loss: 0.0058 - accuracy: 0.9984 - val_loss: 0.0454 - val_accuracy: 0.9905\n",
      "Epoch 5/10\n",
      "192/192 [==============================] - 13s 68ms/step - loss: 0.0029 - accuracy: 0.9988 - val_loss: 0.0532 - val_accuracy: 0.9916\n",
      "Epoch 6/10\n",
      "192/192 [==============================] - 13s 68ms/step - loss: 0.0012 - accuracy: 0.9997 - val_loss: 0.0502 - val_accuracy: 0.9893\n",
      "Epoch 7/10\n",
      "192/192 [==============================] - 13s 69ms/step - loss: 0.0081 - accuracy: 0.9981 - val_loss: 0.0470 - val_accuracy: 0.9901\n",
      "Epoch 8/10\n",
      "192/192 [==============================] - 13s 69ms/step - loss: 0.0021 - accuracy: 0.9995 - val_loss: 0.0512 - val_accuracy: 0.9918\n",
      "Epoch 9/10\n",
      "192/192 [==============================] - 13s 69ms/step - loss: 0.0028 - accuracy: 0.9990 - val_loss: 0.0652 - val_accuracy: 0.9888\n",
      "Epoch 10/10\n",
      "192/192 [==============================] - 13s 68ms/step - loss: 0.0052 - accuracy: 0.9985 - val_loss: 0.0510 - val_accuracy: 0.9903\n"
     ]
    }
   ],
   "source": [
    "history = model.fit_generator(train_generator,\n",
    "                         steps_per_epoch = len(train_generator),\n",
    "                         epochs = 10,\n",
    "                         validation_data = valid_generator,\n",
    "                         validation_steps = len(valid_generator),\n",
    "                         verbose=1)"
   ]
  },
  {
   "cell_type": "code",
   "execution_count": 81,
   "metadata": {
    "colab": {
     "base_uri": "https://localhost:8080/",
     "height": 573
    },
    "id": "i3cRROKgAmk_",
    "outputId": "bf7ae11d-5bc7-4034-953c-3c4263f8b616"
   },
   "outputs": [
    {
     "data": {
      "image/png": "[encoded data removed]",
      "text/plain": [
       "<Figure size 432x288 with 1 Axes>"
      ]
     },
     "metadata": {
      "needs_background": "light",
      "tags": []
     },
     "output_type": "display_data"
    },
    {
     "data": {
      "image/png": "[encoded data removed]",
      "text/plain": [
       "<Figure size 432x288 with 1 Axes>"
      ]
     },
     "metadata": {
      "needs_background": "light",
      "tags": []
     },
     "output_type": "display_data"
    }
   ],
   "source": [
    "\n",
    "import matplotlib.pyplot as plt\n",
    "def plot_learningCurve(history, epoch):\n",
    "    # Plot training & validation accuracy values\n",
    "    epoch_range = range(1, epoch+1)\n",
    "    plt.plot(epoch_range, history.history['accuracy'])\n",
    "    plt.plot(epoch_range, history.history['val_accuracy'])\n",
    "    plt.title('Model accuracy')\n",
    "    plt.ylabel('Accuracy')\n",
    "    plt.xlabel('Epoch')\n",
    "    plt.legend(['Train', 'Val'], loc='upper left')\n",
    "    plt.show()\n",
    "\n",
    "    # Plot training & validation loss values\n",
    "    plt.plot(epoch_range, history.history['loss'])\n",
    "    plt.plot(epoch_range, history.history['val_loss'])\n",
    "    plt.title('Model loss')\n",
    "    plt.ylabel('Loss')\n",
    "    plt.xlabel('Epoch')\n",
    "    plt.legend(['Train', 'Val'], loc='upper left')\n",
    "    plt.show()\n",
    "\n",
    "plot_learningCurve(history, 10)"
   ]
  },
  {
   "cell_type": "code",
   "execution_count": null,
   "metadata": {
    "id": "SbKc9RobAmiW"
   },
   "outputs": [],
   "source": []
  },
  {
   "cell_type": "code",
   "execution_count": null,
   "metadata": {
    "id": "gZPnraYC8kXA"
   },
   "outputs": [],
   "source": []
  }
 ],
 "metadata": {
  "accelerator": "GPU",
  "colab": {
   "collapsed_sections": [],
   "name": "Aerial cactus prediction.ipynb",
   "provenance": []
  },
  "kernelspec": {
   "display_name": "Python 3",
   "language": "python",
   "name": "python3"
  },
  "language_info": {
   "codemirror_mode": {
    "name": "ipython",
    "version": 3
   },
   "file_extension": ".py",
   "mimetype": "text/x-python",
   "name": "python",
   "nbconvert_exporter": "python",
   "pygments_lexer": "ipython3",
   "version": "3.8.5"
  }
 },
 "nbformat": 4,
 "nbformat_minor": 1
}
